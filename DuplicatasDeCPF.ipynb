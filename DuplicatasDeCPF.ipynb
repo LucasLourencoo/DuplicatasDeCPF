{
 "cells": [
  {
   "cell_type": "code",
   "execution_count": 2,
   "metadata": {},
   "outputs": [
    {
     "name": "stdout",
     "output_type": "stream",
     "text": [
      "CPF do cliente 1: \u001b[93m925.413.640-91\u001b[0m\n",
      "CPF do cliente 2: \u001b[93m762.196.080-97\u001b[0m\n",
      "CPF do cliente 3: \u001b[93m827.363.930-40\u001b[0m\n",
      "CPF do cliente 4: \u001b[93m596.125.830-05\u001b[0m\n",
      "CPF do cliente 5: \u001b[93m892.080.930-50\u001b[0m\n",
      "CPF do cliente 6: \u001b[93m462.126.030-81\u001b[0m\n",
      "CPF do cliente 7: \u001b[93m393.462.330-10\u001b[0m\n",
      "CPF do cliente 8: \u001b[93m988.305.810-11\u001b[0m\n",
      "CPF do cliente 9: \u001b[93m263.027.380-67\u001b[0m\n",
      "CPF do cliente 10: \u001b[93m870.565.160-33\u001b[0m\n",
      "CPF do cliente 11: \u001b[93m990.236.770-48\u001b[0m\n",
      "===================================\n",
      "Tivemos um total de 11 clientes que compraram na loja hoje\n"
     ]
    }
   ],
   "source": [
    "cpf_clientes = ['762.196.080-97', '263.027.380-67', '827.363.930-40', '925.413.640-91', '870.565.160-33', '892.080.930-50', '462.126.030-81', '393.462.330-10', '393.462.330-10', '393.462.330-10', '988.305.810-11', '596.125.830-05', '596.125.830-05', '990.236.770-48']\n",
    "\n",
    "set_cpf_clientes = set(cpf_clientes)\n",
    "cpf_clientes_unicos = list(set_cpf_clientes)\n",
    "\n",
    "for l, each in enumerate(cpf_clientes_unicos):\n",
    "    print('CPF do cliente {}: \\033[93m{}\\033[0m'.format(l + 1, cpf_clientes_unicos[l]))\n",
    "print('=' * 35 )    \n",
    "print('Tivemos um total de {} clientes que compraram na loja hoje'.format(len(set_cpf_clientes)))\n",
    "    "
   ]
  }
 ],
 "metadata": {
  "interpreter": {
   "hash": "665796ea3363072d3a6057ac2fdbe3c4fcb0d17a4b92295d9707f78e9c46c0af"
  },
  "kernelspec": {
   "display_name": "Python 3.9.7 ('base')",
   "language": "python",
   "name": "python3"
  },
  "language_info": {
   "codemirror_mode": {
    "name": "ipython",
    "version": 3
   },
   "file_extension": ".py",
   "mimetype": "text/x-python",
   "name": "python",
   "nbconvert_exporter": "python",
   "pygments_lexer": "ipython3",
   "version": "3.9.7"
  },
  "orig_nbformat": 4
 },
 "nbformat": 4,
 "nbformat_minor": 2
}
